{
  "nbformat": 4,
  "nbformat_minor": 0,
  "metadata": {
    "colab": {
      "provenance": []
    },
    "kernelspec": {
      "name": "python3",
      "display_name": "Python 3"
    },
    "language_info": {
      "name": "python"
    }
  },
  "cells": [
    {
      "cell_type": "markdown",
      "source": [
        "THEORY QUESTION"
      ],
      "metadata": {
        "id": "jf9bR0quOGpw"
      }
    },
    {
      "cell_type": "markdown",
      "source": [
        "Q1. What is Object-Oriented Programming (OOP)?\n",
        "\n",
        "Ans:\n",
        "Object-Oriented Programming (OOP) is a programming method that organizes software design around objects, which represent real-world entities. These objects are created from classes, which define their structure and behavior. OOP focuses on four main principles: encapsulation (bundling data and methods together), inheritance (reusing code from existing classes), polymorphism (methods behaving differently based on the object), and abstraction (hiding unnecessary details). OOP makes code more modular, reusable, and easier to maintain. It helps in building complex software systems by breaking them into smaller, manageable pieces. Languages like Java, Python, and C++ use OOP extensively.\n",
        "\n",
        "The key principles of OOP are:\n",
        "\n",
        "Encapsulation: Bundling data and methods together, restricting access to internal details.\n",
        "\n",
        "Inheritance: Creating new classes from existing ones to promote code reuse.\n",
        "\n",
        "Polymorphism: Allowing objects to be treated as instances of their parent class, enabling method overriding."
      ],
      "metadata": {
        "id": "G1_hTUPkORSp"
      }
    },
    {
      "cell_type": "markdown",
      "source": [
        "Q2. What is a class in OOP?\n",
        "\n",
        "Ans:A class in Object-Oriented Programming (OOP) is a blueprint or template used to create objects. It defines the structure and behavior that the objects created from it will have. A class contains:\n",
        "\n",
        "Attributes (also called data members or properties) – variables that hold the state of the object.\n",
        "\n",
        "Methods (also called member functions) – functions that define the behavior or actions the object can perform.\n",
        "\n",
        "✅ Example (in Python):\n",
        "python\n",
        "Copy\n",
        "Edit\n",
        "class Car:\n",
        "    def __init__(self, brand, color):\n",
        "    self.brand = brand\n",
        "    self.color = color\n",
        "\n",
        "    def start_engine(self):\n",
        "    print(f\"{self.brand} engine started!\")\n",
        "Here, Car is a class with attributes brand and color, and a method start_engine()."
      ],
      "metadata": {
        "id": "76KuPpZNPWiO"
      }
    },
    {
      "cell_type": "markdown",
      "source": [
        "Q3:What is an object in OOP?\n",
        "\n",
        "Ans:In Object-Oriented Programming (OOP), an object is a fundamental unit that represents a real-world entity. It is created from a class, which serves as a blueprint or template. An object consists of attributes (also known as properties or data members) and methods (functions that define behavior). When a class is defined, no memory is allocated until an object is created from it. For example, if you have a class Car, you can create multiple objects like car1 = Car(\"Toyota\") and car2 = Car(\"Honda\"), each having its own unique data.\n",
        "\n",
        "Objects help organize code by combining data and functionality together, promoting the OOP principles of encapsulation, abstraction, inheritance, and polymorphism. Each object maintains its own state, and can perform actions using its methods. Objects interact with each other to build complex programs. They are reusable, modular, and make code more maintainable, readable, and aligned with real-life problem-solving.\n",
        "\n"
      ],
      "metadata": {
        "id": "SEKCWeDFP2tv"
      }
    },
    {
      "cell_type": "markdown",
      "source": [
        "Q4. What is the difference between abstraction and encapsulation?\n",
        "\n",
        "Ans:Abstraction and encapsulation are both fundamental concepts in Object-Oriented Programming (OOP), but they serve different purposes.\n",
        "\n",
        "*Abstraction means hiding complex implementation details and showing only the necessary features to the user. It focuses on what an object does, not how it does it. For example, when you use a smartphone, you know how to press buttons, but you don’t see the internal circuits — that’s abstraction. It is usually achieved using abstract classes or interfaces in programming.\n",
        "\n",
        "*Encapsulation, on the other hand, means wrapping data and methods into a single unit (class) and restricting direct access to some parts of the object using access modifiers. It focuses on how data is protected from outside interference. In Python, this is done using private variables (__variable) and getter/setter methods.\n",
        "\n",
        "In short:\n",
        "\n",
        "Abstraction hides implementation complexity\n",
        "\n",
        "Encapsulation hides object’s internal data for security and control.\n",
        "\n",
        "Both improve modularity and code safety.\n"
      ],
      "metadata": {
        "id": "LS1C6gOCSeID"
      }
    },
    {
      "cell_type": "markdown",
      "source": [
        "Q5. What are dunder methods in Python?\n",
        "\n",
        "Ans:Dunder methods in Python, also known as magic methods or special methods, are built-in methods that start and end with double underscores (hence “dunder” – short for double underscore). These methods allow you to customize the behavior of your objects and define how they interact with Python’s built-in operations.\n",
        "\n",
        "For example:\n",
        "\n",
        "    __init__() initializes an object (constructor)\n",
        "\n",
        "    __str__() defines what is returned when the object is printed\n",
        "\n",
        "\n",
        "These methods let you implement features like operator overloading, string representation, comparison, and more.\n",
        "\n",
        "Dunder methods make custom classes behave like built-in types, enhancing flexibility and readability."
      ],
      "metadata": {
        "id": "7aUvJpYlS_zE"
      }
    },
    {
      "cell_type": "markdown",
      "source": [
        "Q6. Explain the concept of inheritance in OOP.\n",
        "\n",
        "Ans:Inheritance is a core concept in Object-Oriented Programming (OOP) that allows a class (child/subclass) to inherit properties and behaviors (attributes and methods) from another class called the parent (superclass). This promotes code reuse, reduces redundancy, and supports hierarchical classification.\n",
        "\n",
        "For example, a general class Animal may have a method speak(). A subclass Dog can inherit this method and also have additional features like bark(). The Dog class doesn’t need to rewrite the speak() method — it reuses it from Animal.\n",
        "\n",
        "In Python, inheritance is written as:\n",
        "\n",
        "python\n",
        "\n",
        "Copy\n",
        "\n",
        "Edit\n",
        "\n",
        "    class Animal:\n",
        "    def speak(self):\n",
        "    print(\"Animal speaks\")\n",
        "\n",
        "    class Dog(Animal):\n",
        "    def bark(self):\n",
        "    print(\"Dog barks\")\n",
        "Python also supports multiple inheritance, where a class can inherit from more than one parent class.\n",
        "\n",
        "Inheritance helps organize code, make it more modular, and allows for polymorphism, where the same method behaves differently in different subclasses."
      ],
      "metadata": {
        "id": "o5Q476hsTy9p"
      }
    },
    {
      "cell_type": "markdown",
      "source": [
        "Q7. What is polymorphism in OOP?\n",
        "\n",
        "Ans:Polymorphism is a key concept in Object-Oriented Programming (OOP) that means “many forms.” It allows the same method or operation to behave differently depending on the object that calls it. Polymorphism enhances flexibility, extensibility, and supports code reusability.\n",
        "\n",
        "There are two main types:\n",
        "\n",
        "Compile-time polymorphism (method overloading – not supported natively in Python)\n",
        "\n",
        "Run-time polymorphism (method overriding – commonly used in Python)\n",
        "\n",
        "In Python, polymorphism is often achieved through method overriding, where a subclass provides its own version of a method defined in its parent class.\n",
        "\n",
        "Example:\n",
        "\n",
        "python\n",
        "Copy\n",
        "Edit\n",
        "\n",
        "class Animal:\n",
        "    def speak(self):\n",
        "    print(\"Animal sound\")\n",
        "\n",
        "class Dog(Animal):\n",
        "    def speak(self):\n",
        "    print(\"Woof\")\n",
        "\n",
        "class Cat(Animal):\n",
        "    def speak(self):\n",
        "    print(\"Meow\")\n",
        "\n",
        "for animal in [Dog(), Cat()]:\n",
        "    animal.speak()\n",
        "Each object responds differently to the same speak() method. This shows how polymorphism enables writing more general and maintainable code."
      ],
      "metadata": {
        "id": "HbalFUK7Uo7M"
      }
    },
    {
      "cell_type": "markdown",
      "source": [
        "Q8. How is encapsulation achieved in Python?\n",
        "\n",
        "Ans:Encapsulation in Python is the process of bundling data (attributes) and the methods that operate on that data into a single unit called a class, and then restricting direct access to some of the object's internal parts. This is done to protect the object’s integrity and prevent unintended interference or misuse.\n",
        "\n",
        "In Python, encapsulation is achieved through:\n",
        "\n",
        "Access modifiers:\n",
        "\n",
        "Public (name) – accessible from anywhere.\n",
        "\n",
        "Protected (_name) – intended for internal use (by convention).\n",
        "\n",
        "Private (__name) – name mangled to prevent direct access.\n",
        "\n",
        "Getter and Setter methods:\n",
        "These allow controlled access to private attributes.\n",
        "\n",
        "Example:\n",
        "\n",
        "python\n",
        "Copy\n",
        "Edit\n",
        "\n",
        "class Account:\n",
        "    def __init__(self):\n",
        "        self.__balance = 0\n",
        "\n",
        "    def deposit(self, amount):\n",
        "        self.__balance += amount\n",
        "\n",
        "    def get_balance(self):\n",
        "        return self.__balance\n",
        "Here, __balance is private, and access is controlled via get_balance() and deposit(). This ensures data security and integrity."
      ],
      "metadata": {
        "id": "ECs-2sMpVgST"
      }
    },
    {
      "cell_type": "markdown",
      "source": [
        "Q9. What is a constructor in Python?\n",
        "\n",
        "Ans:A constructor in Python is a special method used to initialize objects when a class is instantiated. It is defined using the __init__() method. The constructor is automatically called when a new object is created from a class, allowing you to set initial values for the object’s attributes.\n",
        "\n",
        "The first parameter of a constructor is always self, which refers to the current object. You can also pass additional arguments to set custom values during object creation.\n",
        "\n",
        "Example:\n",
        "\n",
        "python\n",
        "Copy\n",
        "Edit\n",
        "class Student:\n",
        "\n",
        "    def __init__(self, name, age):\n",
        "    self.name = name\n",
        "    self.age = age\n",
        "\n",
        "    s1 = Student(\"Amit\", 20)\n",
        "    print(s1.name)  # Output: Amit\n",
        "In this example, the constructor sets the name and age for each new Student object.\n",
        "\n",
        "Constructors improve code readability and ensure that objects always start with a valid state. Python does not require explicit constructor calls—__init__() is triggered automatically upon object creation."
      ],
      "metadata": {
        "id": "CRqGcTlhV_s6"
      }
    },
    {
      "cell_type": "markdown",
      "source": [
        "Q10. What are class and static methods in Python?\n",
        "\n",
        "Ans:In Python, both class methods and static methods are used to define functions inside a class that are not bound to individual object instances.\n",
        "\n",
        "🔹 Class Method:\n",
        "\n",
        "Defined using the @classmethod decorator.\n",
        "\n",
        "Takes cls as the first parameter (refers to the class, not the object).\n",
        "\n",
        "Can access or modify class-level data.\n",
        "\n",
        "Useful for factory methods or tracking class-wide changes.\n",
        "\n",
        "🔹 Static Method:\n",
        "\n",
        "Defined using the @staticmethod decorator.\n",
        "\n",
        "Takes no special first argument (neither self nor cls).\n",
        "\n",
        "Cannot access instance or class-level data.\n",
        "\n",
        "Used for utility/helper functions related to the class.\n",
        "\n",
        "Example:\n",
        "\n",
        "python\n",
        "Copy\n",
        "Edit\n",
        "class Math:\n",
        "\n",
        "    count = 0\n",
        "\n",
        "    @classmethod\n",
        "    def increment(cls):\n",
        "    cls.count += 1\n",
        "\n",
        "    @staticmethod\n",
        "    def add(a, b):\n",
        "    return a + b\n",
        "Class methods are tied to the class, static methods are independent of both the class and object, yet logically grouped with the class."
      ],
      "metadata": {
        "id": "07RomBIQWeid"
      }
    },
    {
      "cell_type": "markdown",
      "source": [
        "Q11. What is method overloading in Python?\n",
        "\n",
        "Ans:Method overloading is a concept in Object-Oriented Programming where multiple methods in the same class share the same name but differ in the number or type of parameters. This allows a single method name to perform different tasks based on the arguments passed.\n",
        "\n",
        "However, Python does not support traditional method overloading like some other languages (e.g., Java or C++). In Python, if you define multiple methods with the same name in a class, only the last one is retained, as it overwrites the previous ones.\n",
        "\n",
        "To achieve similar functionality, default arguments or variable-length arguments (*args, **kwargs) are used.\n",
        "\n",
        "Example:\n",
        "\n",
        "python\n",
        "Copy\n",
        "Edit\n",
        "\n",
        "    class Greet:\n",
        "    def hello(self, name=None):\n",
        "    if name:\n",
        "    print(f\"Hello, {name}!\")\n",
        "    else:\n",
        "    print(\"Hello!\")\n",
        "\n",
        "    g = Greet()\n",
        "    g.hello()        # Output: Hello!\n",
        "    g.hello(\"Amit\")  # Output: Hello, Amit!\n",
        "This way, Python simulates method overloading using conditional logic."
      ],
      "metadata": {
        "id": "M_r62vfvW_iN"
      }
    },
    {
      "cell_type": "markdown",
      "source": [
        "Q12. What is method overriding in OOP?\n",
        "\n",
        "Ans:Method overriding is an Object-Oriented Programming (OOP) concept where a subclass provides a specific implementation of a method that is already defined in its parent class. It allows the subclass to modify or extend the behavior of the inherited method to better suit its own needs.\n",
        "\n",
        "To override a method, the subclass simply defines a method with the same name, parameters, and return type as the one in the parent class. When the method is called on an object of the subclass, the overridden method is executed, not the one in the parent.\n",
        "\n",
        "Example:\n",
        "\n",
        "python\n",
        "Copy\n",
        "Edit\n",
        "\n",
        "    class Animal:\n",
        "    def speak(self):\n",
        "    print(\"Animal speaks\")\n",
        "\n",
        "    class Dog(Animal):\n",
        "    def speak(self):\n",
        "    print(\"Dog barks\")\n",
        "\n",
        "    d = Dog()\n",
        "    d.speak()  # Output: Dog barks\n",
        "\n",
        "In this example, Dog overrides the speak() method of Animal. Method overriding supports polymorphism and makes OOP more flexible and powerful."
      ],
      "metadata": {
        "id": "54fb-1qhX01d"
      }
    },
    {
      "cell_type": "markdown",
      "source": [
        "Q13. What is a property decorator in Python?\n",
        "\n",
        "Ans:The @property decorator in Python is used to convert a method into a read-only property, allowing access to methods like attributes. It provides a clean and Pythonic way to implement getter, setter, and deleter functions without explicitly calling them.\n",
        "\n",
        "Using @property, you can define a method that can be accessed like a variable, which is useful for encapsulation and data validation.\n",
        "\n",
        "Example:\n",
        "\n",
        "python\n",
        "Copy\n",
        "Edit\n",
        "\n",
        "    class Circle:\n",
        "    def __init__(self, radius):\n",
        "    self._radius = radius\n",
        "\n",
        "    @property\n",
        "    def area(self):\n",
        "    return 3.14 * self._radius ** 2\n",
        "Now, you can access area like an attribute:\n",
        "\n",
        "python\n",
        "Copy\n",
        "Edit\n",
        "\n",
        "    c = Circle(5)\n",
        "    print(c.area)  # Output: 78.5\n",
        "You can also use @<property>.setter to allow updates and @<property>.deleter to delete a property.\n",
        "@property improves code readability, encapsulation, and helps control access to private attributes in a clean, object-oriented way."
      ],
      "metadata": {
        "id": "RpUWsRd_YtkB"
      }
    },
    {
      "cell_type": "markdown",
      "source": [
        "Q14. Why is polymorphism important in OOP?\n",
        "\n",
        "Ans:Polymorphism is important in Object-Oriented Programming (OOP) because it allows objects of different classes to be treated as objects of a common superclass. This enhances flexibility, scalability, and reusability in code. Here's why it's important:\n",
        "\n",
        "✅ 1. Code Reusability\n",
        "You can write generic code that works on different data types or classes.\n",
        "\n",
        "Example: A function can accept an object of a superclass and still work with any of its subclasses.\n",
        "\n",
        "✅ 2. Flexibility and Maintainability\n",
        "It’s easier to change or extend parts of the program without modifying the existing code.\n",
        "\n",
        "Example: Add a new subclass without changing the code that uses the superclass type.\n",
        "\n",
        "✅ 3. Improves Readability and Organization\n",
        "Reduces duplicate code by defining shared behaviors in the base class and overriding only what’s necessary in child classes.\n",
        "\n",
        "✅ 4. Enables Dynamic Method Dispatch (Runtime Polymorphism)\n",
        "The correct method is called at runtime depending on the object's actual type, not the reference type.\n",
        "\n",
        "Example: You can override a method in subclasses to behave differently while using the same method name."
      ],
      "metadata": {
        "id": "d_h2hLUdZ4VE"
      }
    },
    {
      "cell_type": "markdown",
      "source": [
        "Q15. What is an abstract class in Python?\n",
        "\n",
        "Ans:An abstract class in Python is a class that cannot be instantiated directly. It is meant to be a blueprint for other classes, and it typically contains one or more abstract methods—methods that are declared but not implemented in the abstract class.\n",
        "\n",
        "📌 Key Points:\n",
        "Abstract classes are defined using the abc (Abstract Base Class) module.\n",
        "\n",
        "They can contain abstract methods and concrete methods (methods with implementation).\n",
        "\n",
        "You cannot create objects of an abstract class.\n",
        "\n",
        "A subclass must implement all abstract methods, or it will also be considered abstract.\n",
        "\n",
        "🧠 Why Use Abstract Classes?\n",
        "\n",
        "To enforce a common interface across multiple subclasses.\n",
        "\n",
        "To define a template that child classes must follow.\n",
        "\n",
        "    from abc import ABC, abstractmethod\n",
        "\n",
        "    class Animal(ABC):  # Abstract class\n",
        "    @abstractmethod\n",
        "    def make_sound(self):  # Abstract method\n",
        "    pass\n",
        "\n",
        "    def sleep(self):  # Concrete method\n",
        "    print(\"Sleeping...\")\n",
        "\n",
        "    class Dog(Animal):\n",
        "    def make_sound(self):\n",
        "    print(\"Bark\")\n",
        "\n",
        "    # animal = Animal()      # ❌ Error: can't instantiate abstract class\n",
        "    dog = Dog()               # ✅\n",
        "    dog.make_sound()          # Output: Bark\n",
        "    dog.sleep()               # Output: Sleeping...\n"
      ],
      "metadata": {
        "id": "TXx0-QRAaRXS"
      }
    },
    {
      "cell_type": "markdown",
      "source": [
        "Q16. What are the advantages of OOP?\n",
        "\n",
        "Ans:Object-Oriented Programming offers many benefits that make software development more organized, scalable, and efficient. Here are the key advantages:\n",
        "\n",
        "1. Modularity\n",
        "\n",
        "  *Code is divided into objects and classes, which act as independent modules.\n",
        "\n",
        "  *Makes large projects easier to organize and manage.\n",
        "\n",
        "2. Reusability\n",
        "\n",
        " *Through inheritance, classes can reuse code from other classes.\n",
        "\n",
        " *Reduces redundancy and speeds up development.\n",
        "\n",
        "3. Encapsulation\n",
        "\n",
        "   *Data and methods are bundled together within objects.\n",
        "\n",
        "   *Helps protect data from unauthorized access and unintended changes.\n",
        "\n",
        "4. Abstraction\n",
        "\n",
        "   *Hides complex internal implementation and shows only the necessary features.\n",
        "\n",
        "   *Simplifies usage and reduces complexity for the user.\n",
        "\n",
        "5. Polymorphism\n",
        "\n",
        "   *Allows functions and methods to work with different types of objects.\n",
        "\n",
        "   *Supports flexible and extendable code design.\n",
        "\n"
      ],
      "metadata": {
        "id": "AFxIoectbQgc"
      }
    },
    {
      "cell_type": "markdown",
      "source": [
        "Q17. What is the difference between a class variable and an instance variable?\n",
        "\n",
        "\n",
        "Ans:In Python, class variables and instance variables are used to store data, but they differ in scope and behavior.\n",
        "\n",
        "A class variable is shared across all instances of a class. It is defined outside any method, directly within the class body. Since it is common to every object, changing it using the class name affects all instances. Class variables are typically used for constants or data shared among all objects.\n",
        "\n",
        "An instance variable, on the other hand, is unique to each object. It is usually defined inside the __init__() method using self, and it holds data specific to that particular instance. Modifying an instance variable affects only that object.\n",
        "\n",
        "For example, a Dog class might have a class variable species = \"Canine\" and an instance variable name for each dog's name.\n",
        "\n",
        "Thus, class variables maintain shared state, while instance variables store object-specific data.\n",
        "\n",
        "Key Point:\n",
        "\n",
        ".Changing a class variable affects all objects, unless overridden.\n",
        "\n",
        ".Changing an instance variable affects only that object.\n",
        "\n"
      ],
      "metadata": {
        "id": "qxts98vac8iT"
      }
    },
    {
      "cell_type": "markdown",
      "source": [
        "Q18. What is multiple inheritance in Python?\n",
        "\n",
        "Ans:Multiple inheritance is a feature in Python where a class can inherit from more than one parent class. This allows the child class to access methods and attributes from multiple sources, promoting flexibility and code reuse.\n",
        "\n",
        "In Python, multiple inheritance is implemented by specifying multiple base classes in the class definition, separated by commas. For example:\n",
        "\n",
        "python\n",
        "\n",
        "Copy\n",
        "\n",
        "Edit\n",
        "\n",
        "    class Father:\n",
        "    def skill(self):\n",
        "    print(\"Driving\")\n",
        "\n",
        "    class Mother:\n",
        "    def skill(self):\n",
        "    print(\"Cooking\")\n",
        "\n",
        "    class Child(Father, Mother):\n",
        "    pass\n",
        "When a method with the same name exists in both parent classes, Python uses Method Resolution Order (MRO) to decide which method to call. In the example above, Child().skill() will output Driving because Father is listed first.\n",
        "\n",
        "While multiple inheritance is powerful, it can lead to complex code and conflicts (such as the Diamond Problem) if not managed properly. Python handles such issues using the C3 linearization algorithm for MRO"
      ],
      "metadata": {
        "id": "jSfPybAFdm-n"
      }
    },
    {
      "cell_type": "markdown",
      "source": [
        "Q19. Explain the purpose of \"_ _str_ _' and'_ _repr_ _ \" methods in Python.\n",
        "\n",
        "Ans:In Python, __str__ and __repr__ are special (dunder) methods that control how objects are represented as strings. They are especially useful for customizing the output of your classes.\n",
        "\n",
        "The __str__ method is meant to return a user-friendly string representation of the object. It is called when you use the print() function or str() on an object. Its purpose is to provide readable output that makes sense to end users. For example:\n",
        "\n",
        "python\n",
        "\n",
        "Copy\n",
        "\n",
        "Edit\n",
        "\n",
        "    def __str__(self):\n",
        "    return f\"Person: {self.name}, Age: {self.age}\"\n",
        "The __repr__ method is meant for developers and debugging. It is called when you use repr() or simply type the object in the Python shell. The goal is to return an unambiguous string, ideally one that could be used to recreate the object using eval(). For example:\n",
        "\n",
        "python\n",
        "\n",
        "Copy\n",
        "\n",
        "Edit\n",
        "\n",
        "    def __repr__(self):\n",
        "    return f\"Person('{self.name}', {self.age})\"\n",
        "If __str__ is not defined, Python falls back to using __repr__. These methods make classes more readable and maintainable by providing meaningful representations instead of default memory addresses. Using them effectively improves logging, debugging, and user interaction with objects."
      ],
      "metadata": {
        "id": "B0jxvRzxfStk"
      }
    },
    {
      "cell_type": "markdown",
      "source": [
        "Q20. What is the significance of the 'super()' function in Python?\n",
        "\n",
        "Ans:The **super()** function in Python is used to call methods from a parent (super) class. It is especially useful in inheritance, where you want to extend or modify the behavior of a method from the parent class without completely overriding it.\n",
        "\n",
        "🔍 Key Significance:\n",
        "Access Parent Class Methods\n",
        "super() allows you to call a method from the parent class without explicitly naming it. This makes code cleaner and more maintainable.\n",
        "\n",
        "Avoid Hardcoding Class Names\n",
        "Using super() is more flexible than calling ParentClass.method(self) because it automatically refers to the correct superclass in a class hierarchy.\n",
        "\n",
        "Supports Multiple Inheritance\n",
        "In multiple inheritance scenarios, super() works with Method Resolution Order (MRO) to ensure that each parent is called only once and in the correct order.\n",
        "\n",
        "🧱 Example:\n",
        "\n",
        "python\n",
        "\n",
        "Copy\n",
        "\n",
        "Edit\n",
        "\n",
        "    class Parent:\n",
        "    def greet(self):\n",
        "    print(\"Hello from Parent\")\n",
        "\n",
        "    class Child(Parent):\n",
        "    def greet(self):\n",
        "    super().greet()\n",
        "    print(\"Hello from Child\")\n",
        "\n",
        "    c = Child()\n",
        "    c.greet()\n",
        "\n",
        "    Output:\n",
        "    csharp\n",
        "    Hello from Parent  \n",
        "    Hello from Child"
      ],
      "metadata": {
        "id": "BjL9r_X2gOCc"
      }
    },
    {
      "cell_type": "markdown",
      "source": [
        "Q21. What is the significance of the _ _del _ _ method in Python?\n",
        "\n",
        "Ans:The _ _del_ _ method in Python is a special method called a destructor. It is automatically invoked when an object is about to be destroyed or garbage collected. Its main purpose is to perform cleanup actions, such as releasing resources (files, network connections, memory, etc.).\n",
        "\n",
        " Key Points:\n",
        "\n",
        ".Called Automatically\n",
        "\n",
        "Python calls __del__() when there are no more references to the object.\n",
        "\n",
        ".Used for Cleanup\n",
        "\n",
        "Ideal for closing files, releasing memory, or cleaning up before the object is removed from memory.\n",
        "\n",
        ".Not Always Guaranteed\n",
        "\n",
        "Python’s garbage collector may delay or skip calling __del__() if there are circular references or during interpreter shutdown.\n",
        "\n",
        "🧱 Example:\n",
        "python\n",
        "Copy\n",
        "Edit\n",
        "\n",
        "    class FileHandler:\n",
        "    def __init__(self, filename):\n",
        "    self.file = open(filename, 'w')\n",
        "\n",
        "    def __del__(self):\n",
        "    print(\"Closing file...\")\n",
        "    self.file.close()\n",
        "\n",
        "    f = FileHandler(\"test.txt\")\n",
        "    del f  # Triggers __del__ and closes the file"
      ],
      "metadata": {
        "id": "vQRl6nnFhMZS"
      }
    },
    {
      "cell_type": "markdown",
      "source": [
        "Q22. What is the difference between@staticmethod and @classmethod in Python?\n",
        "\n",
        "Ans:In Python, @staticmethod and @classmethod are decorators used to define special types of methods that differ from regular instance methods.\n",
        "\n",
        "A @staticmethod is a method that does not take the instance (self) or the class (cls) as its first argument. It behaves just like a normal function but belongs to the class’s namespace. It cannot access or modify class or instance data. Static methods are typically used for utility functions that are related to the class but don’t need to access class-specific or object-specific data.\n",
        "\n",
        "A @classmethod, on the other hand, takes the class itself (cls) as the first argument, instead of self. It can access and modify class-level variables and is often used for factory methods — methods that return instances of the class using alternative constructors.\n",
        "\n",
        "🧱 Example:\n",
        "python\n",
        "Copy\n",
        "Edit\n",
        "\n",
        "    class Demo:\n",
        "    count = 0\n",
        "\n",
        "    @staticmethod\n",
        "    def greet():\n",
        "    print(\"Hello!\")\n",
        "\n",
        "    @classmethod\n",
        "    def increment(cls):\n",
        "    cls.count += 1\n",
        "Here, greet() is a utility method, while increment() changes the class variable count.\n",
        "\n",
        "✅ Summary:\n",
        "Use @staticmethod when no object/class data is needed. Use @classmethod when class-level access is required."
      ],
      "metadata": {
        "id": "OWjXzF-2iKQQ"
      }
    },
    {
      "cell_type": "markdown",
      "source": [
        "Q23. How does polymorphism work in Python with inheritance?\n",
        "\n",
        "Ans:Polymorphism in Python allows objects of different classes to be treated as objects of a common superclass. When used with inheritance, polymorphism enables a child class to override methods of the parent class, while still being accessed through a reference of the parent class type.\n",
        "\n",
        " How It Works:\n",
        "\n",
        "A base class defines a method.\n",
        "\n",
        "Derived classes override that method with their own implementations.\n",
        "\n",
        "You can call the method on a base class reference, and the appropriate method from the actual object (child class) is executed.\n",
        "\n",
        "This behavior is called dynamic (or runtime) method dispatch.\n",
        "\n",
        "🧱 Example:\n",
        "python\n",
        "Copy\n",
        "Edit\n",
        "\n",
        "    class Animal:\n",
        "    def speak(self):\n",
        "    print(\"Animal speaks\")\n",
        "\n",
        "    class Dog(Animal):\n",
        "    def speak(self):\n",
        "    print(\"Dog barks\")\n",
        "\n",
        "    class Cat(Animal):\n",
        "    def speak(self):\n",
        "    print(\"Cat meows\")\n",
        "\n",
        "# Polymorphic behavior\n",
        "    def make_animal_speak(animal):\n",
        "    animal.speak()\n",
        "\n",
        "    a1 = Dog()\n",
        "    a2 = Cat()\n",
        "\n",
        "    make_animal_speak(a1)  # Output: Dog barks\n",
        "    make_animal_speak(a2)  # Output: Cat meows\n"
      ],
      "metadata": {
        "id": "h3DMFly-iwIB"
      }
    },
    {
      "cell_type": "markdown",
      "source": [
        "Q24. What is method chaining in Python OOP?\n",
        "\n",
        "Ans:Method chaining in Python OOP is a technique where multiple method calls are made on the same object in a single line, one after another. This is done by having each method return self, so the next method can be called on the same object.\n",
        "\n",
        "🔍 Key Features:\n",
        "Enhances code readability and fluency\n",
        "\n",
        "Requires each method to return the object itself (return self)\n",
        "\n",
        "Common in builder patterns and configuration-style code\n",
        "\n",
        "🧱 Example:\n",
        "python\n",
        "Copy\n",
        "Edit\n",
        "\n",
        "    class Person:\n",
        "    def __init__(self, name):\n",
        "    self.name = name\n",
        "    self.age = 0\n",
        "    self.city = \"\"\n",
        "\n",
        "    def set_age(self, age):\n",
        "    self.age = age\n",
        "    return self  # Enables chaining\n",
        "\n",
        "    def set_city(self, city):\n",
        "    self.city = city\n",
        "    return self  # Enables chaining\n",
        "\n",
        "    def show(self):\n",
        "    print(f\"{self.name}, {self.age}, {self.city}\")\n",
        "    return self\n",
        "\n",
        "    # Method chaining\n",
        "    p = Person(\"Nishu\").set_age(25).set_city(\"Patna\").show()\n",
        "    Output:\n",
        "    Nishu, 25, Patna"
      ],
      "metadata": {
        "id": "pGGAlqw2jszQ"
      }
    },
    {
      "cell_type": "markdown",
      "source": [
        "Q25. What is the purpose of the _ _call _ _ method in Python?\n",
        "\n",
        "Ans:In Python, the __call__ method is a special (dunder) method that allows an object of a class to be called as if it were a function. When an instance is followed by parentheses (like obj()), Python automatically invokes the instance’s __call__() method.\n",
        "\n",
        "The main purpose of __call__ is to give function-like behavior to objects. This is particularly useful when you want objects to perform a specific action when \"called\" or to maintain state across multiple function calls.\n",
        "\n",
        "This feature is commonly used in decorators, function wrappers, machine learning models, and configuration builders, where objects behave like functions but can also store internal data.\n",
        "\n",
        "Example\n",
        "\n",
        "    class Multiplier:\n",
        "    def __init__(self, factor):\n",
        "    self.factor = factor\n",
        "\n",
        "    def __call__(self, number):\n",
        "    return number * self.factor\n",
        "\n",
        "    double = Multiplier(2)\n",
        "    print(double(5))  # Output: 10\n",
        "\n",
        "In this example, double is an object, but calling double(5) works like a function due to __call__.\n"
      ],
      "metadata": {
        "id": "ruA6Vs3Yk9au"
      }
    },
    {
      "cell_type": "markdown",
      "source": [
        "PRACTIAL QUESTION"
      ],
      "metadata": {
        "id": "DPZKWP-QzPZ6"
      }
    },
    {
      "cell_type": "markdown",
      "source": [
        "Q1. Create a parent class Animal with a method speak) that prints a generic message. Create a child class Dog that overrides the speak) method to print \"Bark!\".**bold text**"
      ],
      "metadata": {
        "id": "z805Sxy_3w9_"
      }
    },
    {
      "cell_type": "code",
      "metadata": {
        "colab": {
          "base_uri": "https://localhost:8080/"
        },
        "id": "63d47fa2",
        "outputId": "14c0655d-8775-4b51-d1e2-3f6aaed64cb7"
      },
      "source": [
        "class Animal:\n",
        "    def speak(self):\n",
        "        print(\"Animal speaks\")\n",
        "\n",
        "class Dog(Animal):\n",
        "    def speak(self):\n",
        "        print(\"Bark!\")\n",
        "\n",
        "# Example usage:\n",
        "animal = Animal()\n",
        "animal.speak()\n",
        "\n",
        "dog = Dog()\n",
        "dog.speak()"
      ],
      "execution_count": 1,
      "outputs": [
        {
          "output_type": "stream",
          "name": "stdout",
          "text": [
            "Animal speaks\n",
            "Bark!\n"
          ]
        }
      ]
    },
    {
      "cell_type": "markdown",
      "source": [
        "Q2. Write a program to create an abstract class Shape with a method area. Derive classes Circle and Rectangle from it and implement the area () method in both."
      ],
      "metadata": {
        "id": "n0Pi-YcL3_4-"
      }
    },
    {
      "cell_type": "code",
      "metadata": {
        "colab": {
          "base_uri": "https://localhost:8080/"
        },
        "id": "febc13f3",
        "outputId": "c5950be1-5eed-4d96-c4fc-08d4dc3a9b96"
      },
      "source": [
        "Ans\n",
        "from abc import ABC, abstractmethod\n",
        "import math\n",
        "\n",
        "class Shape(ABC):  # Abstract class\n",
        "    @abstractmethod\n",
        "    def area(self):\n",
        "        pass\n",
        "\n",
        "class Circle(Shape):\n",
        "    def __init__(self, radius):\n",
        "        self.radius = radius\n",
        "\n",
        "    def area(self):\n",
        "        return math.pi * self.radius**2\n",
        "\n",
        "class Rectangle(Shape):\n",
        "    def __init__(self, width, height):\n",
        "        self.width = width\n",
        "        self.height = height\n",
        "\n",
        "    def area(self):\n",
        "        return self.width * self.height\n",
        "\n",
        "# Example usage:\n",
        "# shape = Shape() # This would raise an error because Shape is abstract\n",
        "\n",
        "circle = Circle(5)\n",
        "print(f\"Area of Circle: {circle.area()}\")\n",
        "\n",
        "rectangle = Rectangle(4, 6)\n",
        "print(f\"Area of Rectangle: {rectangle.area()}\")"
      ],
      "execution_count": 2,
      "outputs": [
        {
          "output_type": "stream",
          "name": "stdout",
          "text": [
            "Area of Circle: 78.53981633974483\n",
            "Area of Rectangle: 24\n"
          ]
        }
      ]
    },
    {
      "cell_type": "markdown",
      "source": [
        "Q3. Implement a multi-level inheritance scenario where a class Vehicle has an attribute type. Derive a class Car and further derive a class ElectricCar that adds a battery attribute."
      ],
      "metadata": {
        "id": "AxcBCvjU4NS-"
      }
    },
    {
      "cell_type": "code",
      "metadata": {
        "colab": {
          "base_uri": "https://localhost:8080/"
        },
        "id": "7d026ad0",
        "outputId": "92b17c9c-111d-434a-9031-7d01a78fe0b3"
      },
      "source": [
        "Ans:\n",
        "class Vehicle:\n",
        "    def __init__(self, vehicle_type):\n",
        "        self.type = vehicle_type\n",
        "\n",
        "class Car(Vehicle):\n",
        "    def __init__(self, vehicle_type, model):\n",
        "        super().__init__(vehicle_type)\n",
        "        self.model = model\n",
        "\n",
        "class ElectricCar(Car):\n",
        "    def __init__(self, vehicle_type, model, battery_capacity):\n",
        "        super().__init__(vehicle_type, model)\n",
        "        self.battery = battery_capacity\n",
        "\n",
        "# Example usage:\n",
        "my_electric_car = ElectricCar(\"Car\", \"Tesla Model S\", \"100 kWh\")\n",
        "\n",
        "print(f\"Vehicle Type: {my_electric_car.type}\")\n",
        "print(f\"Model: {my_electric_car.model}\")\n",
        "print(f\"Battery Capacity: {my_electric_car.battery}\")"
      ],
      "execution_count": 3,
      "outputs": [
        {
          "output_type": "stream",
          "name": "stdout",
          "text": [
            "Vehicle Type: Car\n",
            "Model: Tesla Model S\n",
            "Battery Capacity: 100 kWh\n"
          ]
        }
      ]
    },
    {
      "cell_type": "markdown",
      "source": [
        "Q4. Demonstrate polymorphism by creating a base class Bird with a method fly). Create two derived classes\n",
        "Sparrow and Penguin that override the fly() method"
      ],
      "metadata": {
        "id": "4K486cqZ4RpL"
      }
    },
    {
      "cell_type": "code",
      "metadata": {
        "colab": {
          "base_uri": "https://localhost:8080/"
        },
        "id": "09f84be2",
        "outputId": "c5846040-69d2-4256-9bec-b0b35fb713d0"
      },
      "source": [
        "Ans:\n",
        "class Bird:\n",
        "    def fly(self):\n",
        "        print(\"Bird is flying\")\n",
        "\n",
        "class Sparrow(Bird):\n",
        "    def fly(self):\n",
        "        print(\"Sparrow is fluttering\")\n",
        "\n",
        "class Penguin(Bird):\n",
        "    def fly(self):\n",
        "        print(\"Penguins can't fly, but they can swim!\")\n",
        "\n",
        "# Demonstrate polymorphism\n",
        "def make_bird_fly(bird):\n",
        "    bird.fly()\n",
        "\n",
        "sparrow = Sparrow()\n",
        "penguin = Penguin()\n",
        "\n",
        "make_bird_fly(sparrow)\n",
        "make_bird_fly(penguin)"
      ],
      "execution_count": 5,
      "outputs": [
        {
          "output_type": "stream",
          "name": "stdout",
          "text": [
            "Sparrow is fluttering\n",
            "Penguins can't fly, but they can swim!\n"
          ]
        }
      ]
    },
    {
      "cell_type": "markdown",
      "source": [
        "Q5. Write a program to demonstrate encapsulation by creating a class BankAccount with private attributes balance and methods to deposit, withdraw, and check balance."
      ],
      "metadata": {
        "id": "kfZPCw814y8P"
      }
    },
    {
      "cell_type": "code",
      "metadata": {
        "colab": {
          "base_uri": "https://localhost:8080/"
        },
        "id": "9408bc89",
        "outputId": "08f8f5b4-e82f-4b08-cad3-5fb91f4284e1"
      },
      "source": [
        "Ans\n",
        "class BankAccount:\n",
        "    def __init__(self):\n",
        "        self.__balance = 0  # Private attribute\n",
        "\n",
        "    def deposit(self, amount):\n",
        "        if amount > 0:\n",
        "            self.__balance += amount\n",
        "            print(f\"Deposited: {amount}. New balance: {self.__balance}\")\n",
        "        else:\n",
        "            print(\"Deposit amount must be positive.\")\n",
        "\n",
        "    def withdraw(self, amount):\n",
        "        if amount > 0:\n",
        "            if self.__balance >= amount:\n",
        "                self.__balance -= amount\n",
        "                print(f\"Withdrew: {amount}. New balance: {self.__balance}\")\n",
        "            else:\n",
        "                print(\"Insufficient balance.\")\n",
        "        else:\n",
        "            print(\"Withdrawal amount must be positive.\")\n",
        "\n",
        "    def get_balance(self):\n",
        "        return self.__balance\n",
        "\n",
        "# Example usage:\n",
        "account = BankAccount()\n",
        "\n",
        "account.deposit(1000)\n",
        "account.withdraw(500)\n",
        "print(f\"Current balance: {account.get_balance()}\")\n",
        "account.withdraw(600) # Demonstrates insufficient balance"
      ],
      "execution_count": 6,
      "outputs": [
        {
          "output_type": "stream",
          "name": "stdout",
          "text": [
            "Deposited: 1000. New balance: 1000\n",
            "Withdrew: 500. New balance: 500\n",
            "Current balance: 500\n",
            "Insufficient balance.\n"
          ]
        }
      ]
    },
    {
      "cell_type": "markdown",
      "source": [
        "Q6. Demonstrate runtime polymorphism using a method play) in a base class Instrument. Derive classes Guitar and Piano that implement their own version of play)"
      ],
      "metadata": {
        "id": "lSht9XwE45wr"
      }
    },
    {
      "cell_type": "code",
      "metadata": {
        "colab": {
          "base_uri": "https://localhost:8080/"
        },
        "id": "80c14703",
        "outputId": "78ee7a02-a27b-4c94-d859-154b67878843"
      },
      "source": [
        "Ans:\n",
        "class Instrument:\n",
        "    def play(self):\n",
        "        print(\"Playing an instrument\")\n",
        "\n",
        "class Guitar(Instrument):\n",
        "    def play(self):\n",
        "        print(\"Strumming the guitar\")\n",
        "\n",
        "class Piano(Instrument):\n",
        "    def play(self):\n",
        "        print(\"Playing the piano keys\")\n",
        "\n",
        "# Demonstrate runtime polymorphism\n",
        "def make_instrument_play(instrument):\n",
        "    instrument.play()\n",
        "\n",
        "guitar = Guitar()\n",
        "piano = Piano()\n",
        "\n",
        "make_instrument_play(guitar)\n",
        "make_instrument_play(piano)"
      ],
      "execution_count": 7,
      "outputs": [
        {
          "output_type": "stream",
          "name": "stdout",
          "text": [
            "Strumming the guitar\n",
            "Playing the piano keys\n"
          ]
        }
      ]
    },
    {
      "cell_type": "markdown",
      "source": [
        "Q7. Create a class MathOperations with a class method add _ numbers () to add two numbers and a static method subtract_numbers) to subtract two numbers."
      ],
      "metadata": {
        "id": "escRy4Zt4_6h"
      }
    },
    {
      "cell_type": "code",
      "metadata": {
        "colab": {
          "base_uri": "https://localhost:8080/"
        },
        "id": "cdf0151f",
        "outputId": "f4149251-8eba-4682-ea06-c374f4b038a8"
      },
      "source": [
        "Ans:\n",
        "class MathOperations:\n",
        "    @classmethod\n",
        "    def add_numbers(cls, num1, num2):\n",
        "        return num1 + num2\n",
        "\n",
        "    @staticmethod\n",
        "    def subtract_numbers(num1, num2):\n",
        "        return num1 - num2\n",
        "\n",
        "# Example usage:\n",
        "sum_result = MathOperations.add_numbers(10, 5)\n",
        "print(f\"Sum: {sum_result}\")\n",
        "\n",
        "difference_result = MathOperations.subtract_numbers(10, 5)\n",
        "print(f\"Difference: {difference_result}\")"
      ],
      "execution_count": 8,
      "outputs": [
        {
          "output_type": "stream",
          "name": "stdout",
          "text": [
            "Sum: 15\n",
            "Difference: 5\n"
          ]
        }
      ]
    },
    {
      "cell_type": "markdown",
      "source": [
        "Q8. Implement a class Person with a class method to count the total number of persons created."
      ],
      "metadata": {
        "id": "pu_TaIWO5EtC"
      }
    },
    {
      "cell_type": "code",
      "metadata": {
        "colab": {
          "base_uri": "https://localhost:8080/"
        },
        "id": "eb54e48e",
        "outputId": "6a48112b-2b22-4db0-c48a-af3c36d6fd7a"
      },
      "source": [
        "Ans:\n",
        "class Person:\n",
        "    count = 0  # Class variable to keep track of the number of persons\n",
        "\n",
        "    def __init__(self, name):\n",
        "        self.name = name\n",
        "        Person.count += 1  # Increment the count whenever a new Person object is created\n",
        "\n",
        "    @classmethod\n",
        "    def get_person_count(cls):\n",
        "        return cls.count\n",
        "\n",
        "# Example usage:\n",
        "person1 = Person(\"Alice\")\n",
        "person2 = Person(\"Bob\")\n",
        "person3 = Person(\"Charlie\")\n",
        "\n",
        "print(f\"Total number of persons created: {Person.get_person_count()}\")"
      ],
      "execution_count": 9,
      "outputs": [
        {
          "output_type": "stream",
          "name": "stdout",
          "text": [
            "Total number of persons created: 3\n"
          ]
        }
      ]
    },
    {
      "cell_type": "markdown",
      "source": [
        "Q9. Write a class Fraction with attributes numerator and denominator. Override the str method to display the fraction as \"numerator/denominator*\n"
      ],
      "metadata": {
        "id": "3T0wr1ow5Mu3"
      }
    },
    {
      "cell_type": "code",
      "metadata": {
        "colab": {
          "base_uri": "https://localhost:8080/"
        },
        "id": "16035770",
        "outputId": "a10c5ebf-6ef3-4f5a-c3cd-5c85c2fc3360"
      },
      "source": [
        "Ans:\n",
        "class Fraction:\n",
        "    def __init__(self, numerator, denominator):\n",
        "        self.numerator = numerator\n",
        "        self.denominator = denominator\n",
        "\n",
        "    def __str__(self):\n",
        "        return f\"{self.numerator}/{self.denominator}\"\n",
        "\n",
        "# Example usage:\n",
        "fraction1 = Fraction(3, 4)\n",
        "print(fraction1)\n",
        "\n",
        "fraction2 = Fraction(1, 2)\n",
        "print(fraction2)"
      ],
      "execution_count": 10,
      "outputs": [
        {
          "output_type": "stream",
          "name": "stdout",
          "text": [
            "3/4\n",
            "1/2\n"
          ]
        }
      ]
    },
    {
      "cell_type": "markdown",
      "source": [
        "Q10. Demonstrate operator overloading by creating a class Vector and overriding the add method to add two vectors"
      ],
      "metadata": {
        "id": "d5oXXSG45SaB"
      }
    },
    {
      "cell_type": "code",
      "metadata": {
        "colab": {
          "base_uri": "https://localhost:8080/"
        },
        "id": "c4617ff7",
        "outputId": "60eb6fbc-e5f4-4940-9ead-26e4788de8c8"
      },
      "source": [
        "Ans:\n",
        "class Vector:\n",
        "    def __init__(self, x, y):\n",
        "        self.x = x\n",
        "        self.y = y\n",
        "\n",
        "    def __str__(self):\n",
        "        return f\"Vector({self.x}, {self.y})\"\n",
        "\n",
        "    def __add__(self, other):\n",
        "        if isinstance(other, Vector):\n",
        "            return Vector(self.x + other.x, self.y + other.y)\n",
        "        else:\n",
        "            raise TypeError(\"Can only add a Vector object to another Vector object\")\n",
        "\n",
        "# Example usage:\n",
        "vector1 = Vector(2, 3)\n",
        "vector2 = Vector(1, 4)\n",
        "\n",
        "vector3 = vector1 + vector2\n",
        "print(vector3)"
      ],
      "execution_count": 11,
      "outputs": [
        {
          "output_type": "stream",
          "name": "stdout",
          "text": [
            "Vector(3, 7)\n"
          ]
        }
      ]
    },
    {
      "cell_type": "markdown",
      "source": [
        "Q11. Create a class Person with attributes name and age. Add a method greet) that prints \"Hello, my name is (name} and I am {age) years old.\""
      ],
      "metadata": {
        "id": "ygbrahyW50KX"
      }
    },
    {
      "cell_type": "code",
      "metadata": {
        "colab": {
          "base_uri": "https://localhost:8080/"
        },
        "id": "be1ec16c",
        "outputId": "2f74c205-a6eb-4d54-ba0a-2db27e051347"
      },
      "source": [
        "Ans:\n",
        "class Person:\n",
        "    def __init__(self, name, age):\n",
        "        self.name = name\n",
        "        self.age = age\n",
        "\n",
        "    def greet(self):\n",
        "        print(f\"Hello, my name is {self.name} and I am {self.age} years old.\")\n",
        "\n",
        "# Example usage:\n",
        "person1 = Person(\"Nishu\", 25)\n",
        "person1.greet()"
      ],
      "execution_count": 12,
      "outputs": [
        {
          "output_type": "stream",
          "name": "stdout",
          "text": [
            "Hello, my name is Nishu and I am 25 years old.\n"
          ]
        }
      ]
    },
    {
      "cell_type": "markdown",
      "source": [
        "Q12. Implement a class Student with attributes name and grades. Create a method average_grade()to compute the average of the grades."
      ],
      "metadata": {
        "id": "49XJsU7N53_l"
      }
    },
    {
      "cell_type": "code",
      "metadata": {
        "colab": {
          "base_uri": "https://localhost:8080/"
        },
        "id": "8ae78839",
        "outputId": "e8a36575-a3d2-4c4e-af65-b6945d8d19d7"
      },
      "source": [
        "Ans:\n",
        "class Student:\n",
        "    def __init__(self, name, grades):\n",
        "        self.name = name\n",
        "        self.grades = grades\n",
        "\n",
        "    def average_grade(self):\n",
        "        if not self.grades:  # Handle case with no grades\n",
        "            return 0\n",
        "        return sum(self.grades) / len(self.grades)\n",
        "\n",
        "# Example usage:\n",
        "student1 = Student(\"Nishu\", [85, 90, 92, 88])\n",
        "print(f\"{student1.name}'s average grade: {student1.average_grade()}\")\n",
        "\n",
        "student2 = Student(\"Amit\", [])\n",
        "print(f\"{student2.name}'s average grade: {student2.average_grade()}\")"
      ],
      "execution_count": 13,
      "outputs": [
        {
          "output_type": "stream",
          "name": "stdout",
          "text": [
            "Nishu's average grade: 88.75\n",
            "Amit's average grade: 0\n"
          ]
        }
      ]
    },
    {
      "cell_type": "markdown",
      "source": [
        "Q13.Create a class Rectangle with methods set_dimensions) to set the dimensions and area to calculate the area."
      ],
      "metadata": {
        "id": "sBpBY7gr59f-"
      }
    },
    {
      "cell_type": "code",
      "metadata": {
        "colab": {
          "base_uri": "https://localhost:8080/"
        },
        "id": "6faaa9a1",
        "outputId": "c0d1c36f-668b-49e9-9ea2-7be7b77cfb55"
      },
      "source": [
        "Ans:\n",
        "class Rectangle:\n",
        "    def __init__(self):\n",
        "        self.width = 0\n",
        "        self.height = 0\n",
        "\n",
        "    def set_dimensions(self, width, height):\n",
        "        self.width = width\n",
        "        self.height = height\n",
        "\n",
        "    def area(self):\n",
        "        return self.width * self.height\n",
        "\n",
        "# Example usage:\n",
        "rectangle = Rectangle()\n",
        "rectangle.set_dimensions(10, 5)\n",
        "print(f\"The area of the rectangle is: {rectangle.area()}\")"
      ],
      "execution_count": 14,
      "outputs": [
        {
          "output_type": "stream",
          "name": "stdout",
          "text": [
            "The area of the rectangle is: 50\n"
          ]
        }
      ]
    },
    {
      "cell_type": "markdown",
      "source": [
        "Q14. Create a class Employee with a method calculate _salary that computes the salary based on hours worked and hourly rate. Create a derived class Manager that adds a bonus to the salary."
      ],
      "metadata": {
        "id": "bkREAftz6Dxd"
      }
    },
    {
      "cell_type": "code",
      "metadata": {
        "colab": {
          "base_uri": "https://localhost:8080/"
        },
        "id": "ec0b66ce",
        "outputId": "7b7b1f32-b5db-42f1-dcfc-0874dd0b31fc"
      },
      "source": [
        "Ans:\n",
        "class Employee:\n",
        "    def __init__(self, hours_worked, hourly_rate):\n",
        "        self.hours_worked = hours_worked\n",
        "        self.hourly_rate = hourly_rate\n",
        "\n",
        "    def calculate_salary(self):\n",
        "        return self.hours_worked * self.hourly_rate\n",
        "\n",
        "class Manager(Employee):\n",
        "    def __init__(self, hours_worked, hourly_rate, bonus):\n",
        "        super().__init__(hours_worked, hourly_rate)\n",
        "        self.bonus = bonus\n",
        "\n",
        "    def calculate_salary(self):\n",
        "        base_salary = super().calculate_salary()\n",
        "        return base_salary + self.bonus\n",
        "\n",
        "# Example usage:\n",
        "employee = Employee(40, 20)\n",
        "print(f\"Employee salary: {employee.calculate_salary()}\")\n",
        "\n",
        "manager = Manager(40, 20, 500)\n",
        "print(f\"Manager salary: {manager.calculate_salary()}\")"
      ],
      "execution_count": 15,
      "outputs": [
        {
          "output_type": "stream",
          "name": "stdout",
          "text": [
            "Employee salary: 800\n",
            "Manager salary: 1300\n"
          ]
        }
      ]
    },
    {
      "cell_type": "markdown",
      "source": [
        "Q15. Create a class Product with attributes name, price, and quantity. Implement a method total _price) that calculates the total price of the product"
      ],
      "metadata": {
        "id": "dX4BkYVL6KFK"
      }
    },
    {
      "cell_type": "code",
      "metadata": {
        "colab": {
          "base_uri": "https://localhost:8080/"
        },
        "id": "4d2f3dac",
        "outputId": "38f8afb2-4604-47b5-be16-61ec94691726"
      },
      "source": [
        "Ans:\n",
        "class Product:\n",
        "    def __init__(self, name, price, quantity):\n",
        "        self.name = name\n",
        "        self.price = price\n",
        "        self.quantity = quantity\n",
        "\n",
        "    def total_price(self):\n",
        "        return self.price * self.quantity\n",
        "\n",
        "# Example usage:\n",
        "product1 = Product(\"Laptop\", 1000, 2)\n",
        "print(f\"Total price for {product1.name}: ${product1.total_price()}\")\n",
        "\n",
        "product2 = Product(\"Mouse\", 25, 5)\n",
        "print(f\"Total price for {product2.name}: ${product2.total_price()}\")"
      ],
      "execution_count": 16,
      "outputs": [
        {
          "output_type": "stream",
          "name": "stdout",
          "text": [
            "Total price for Laptop: $2000\n",
            "Total price for Mouse: $125\n"
          ]
        }
      ]
    },
    {
      "cell_type": "markdown",
      "source": [
        "Q16. Create a class Animal with an abstract method sound). Create two derived classes Cow and Sheep that implement the sound) method."
      ],
      "metadata": {
        "id": "luhxE9JQ6RLq"
      }
    },
    {
      "cell_type": "code",
      "metadata": {
        "colab": {
          "base_uri": "https://localhost:8080/"
        },
        "id": "f3ac0abc",
        "outputId": "27fe8994-0fff-4771-c109-d6d313677043"
      },
      "source": [
        "Ans:\n",
        "from abc import ABC, abstractmethod\n",
        "\n",
        "class Animal(ABC):  # Abstract class\n",
        "    @abstractmethod\n",
        "    def sound(self):\n",
        "        pass\n",
        "\n",
        "class Cow(Animal):\n",
        "    def sound(self):\n",
        "        print(\"Moo\")\n",
        "\n",
        "class Sheep(Animal):\n",
        "    def sound(self):\n",
        "        print(\"Baa\")\n",
        "\n",
        "# Example usage:\n",
        "# animal = Animal() # This would raise an error\n",
        "\n",
        "cow = Cow()\n",
        "cow.sound()\n",
        "\n",
        "sheep = Sheep()\n",
        "sheep.sound()"
      ],
      "execution_count": 17,
      "outputs": [
        {
          "output_type": "stream",
          "name": "stdout",
          "text": [
            "Moo\n",
            "Baa\n"
          ]
        }
      ]
    },
    {
      "cell_type": "markdown",
      "source": [
        "Q17. Create a class Book with attributes title, author, and year _published. Add a method get _book_info) that returns a formatted string with the book's details"
      ],
      "metadata": {
        "id": "JTthl2JK6XwH"
      }
    },
    {
      "cell_type": "code",
      "metadata": {
        "colab": {
          "base_uri": "https://localhost:8080/"
        },
        "id": "284fe1fa",
        "outputId": "ac31fdf1-1a77-45a8-de3c-782d17cb70b2"
      },
      "source": [
        "Ans:\n",
        "class Book:\n",
        "    def __init__(self, title, author, year_published):\n",
        "        self.title = title\n",
        "        self.author = author\n",
        "        self.year_published = year_published\n",
        "\n",
        "    def get_book_info(self):\n",
        "        return f\"Title: {self.title}, Author: {self.author}, Year Published: {self.year_published}\"\n",
        "\n",
        "# Example usage:\n",
        "book1 = Book(\"The Hitchhiker's Guide to the Galaxy\", \"Douglas Adams\", 1979)\n",
        "print(book1.get_book_info())"
      ],
      "execution_count": 18,
      "outputs": [
        {
          "output_type": "stream",
          "name": "stdout",
          "text": [
            "Title: The Hitchhiker's Guide to the Galaxy, Author: Douglas Adams, Year Published: 1979\n"
          ]
        }
      ]
    },
    {
      "cell_type": "markdown",
      "source": [
        "Q18. Create a class House with attributes address and price. Create a derived class Mansion that adds an attribute number_of_rooms"
      ],
      "metadata": {
        "id": "elnzzmgs6cfp"
      }
    },
    {
      "cell_type": "code",
      "metadata": {
        "colab": {
          "base_uri": "https://localhost:8080/"
        },
        "id": "64915139",
        "outputId": "2dd04b8a-48c6-471a-8f04-5816c5f13ee0"
      },
      "source": [
        "Ans:\n",
        "class House:\n",
        "    def __init__(self, address, price):\n",
        "        self.address = address\n",
        "        self.price = price\n",
        "\n",
        "class Mansion(House):\n",
        "    def __init__(self, address, price, number_of_rooms):\n",
        "        super().__init__(address, price)\n",
        "        self.number_of_rooms = number_of_rooms\n",
        "\n",
        "# Example usage:\n",
        "my_mansion = Mansion(\"123 Luxury Lane\", 5000000, 20)\n",
        "print(f\"Mansion Address: {my_mansion.address}\")\n",
        "print(f\"Mansion Price: ${my_mansion.price}\")\n",
        "print(f\"Number of Rooms: {my_mansion.number_of_rooms}\")"
      ],
      "execution_count": 19,
      "outputs": [
        {
          "output_type": "stream",
          "name": "stdout",
          "text": [
            "Mansion Address: 123 Luxury Lane\n",
            "Mansion Price: $5000000\n",
            "Number of Rooms: 20\n"
          ]
        }
      ]
    }
  ]
}